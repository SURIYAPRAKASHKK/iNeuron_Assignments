{
 "cells": [
  {
   "cell_type": "raw",
   "metadata": {},
   "source": [
    "1.1 Write a Python Program to implement your own myreduce() function which works exactly\n",
    "like Python's built-in function reduce()"
   ]
  },
  {
   "cell_type": "code",
   "execution_count": 1,
   "metadata": {},
   "outputs": [],
   "source": [
    "def add(x,y):\n",
    "    return x+y\n",
    "def sub(x,y):\n",
    "    return x - y\n",
    "def mul(x,y):\n",
    "    return x*y\n",
    "def div(x,y):\n",
    "    return x/y\n",
    "def mod(x,y):\n",
    "    return x%y"
   ]
  },
  {
   "cell_type": "code",
   "execution_count": 2,
   "metadata": {},
   "outputs": [],
   "source": [
    "def myreduce(func,l):\n",
    "    print(\"Note: This myreduce function only work for add, sub, mul, div, mod function only\")\n",
    "    if func == sub:\n",
    "        a = l[0]\n",
    "        for i in range(1,len(l)):\n",
    "            b = l[i]\n",
    "            a = sub(a,b)\n",
    "            result = a\n",
    "        return result\n",
    "    elif func == add:\n",
    "        a = l[0]\n",
    "        for i in range(1,len(l)):\n",
    "            b = l[i]\n",
    "            a = add(a,b)\n",
    "            result = a\n",
    "        return result\n",
    "    elif func == mul:\n",
    "        a = l[0]\n",
    "        for i in range(1,len(l)):\n",
    "            b = l[i]\n",
    "            a = mul(a,b)\n",
    "            result = a\n",
    "        return result\n",
    "    elif func == div:\n",
    "        a = l[0]\n",
    "        for i in range(1,len(l)):\n",
    "            b = l[i]\n",
    "            a = div(a,b)\n",
    "            result = a\n",
    "        return result\n",
    "    elif func == mod:\n",
    "        a = l[0]\n",
    "        for i in range(1,len(l)):\n",
    "            b = l[i]\n",
    "            a = mod(a,b)\n",
    "            result = a\n",
    "        return result\n",
    "    else:\n",
    "        print(\"Not possible to execute that you're trying to pass your function\")"
   ]
  },
  {
   "cell_type": "code",
   "execution_count": 3,
   "metadata": {},
   "outputs": [
    {
     "name": "stdout",
     "output_type": "stream",
     "text": [
      "Note: This myreduce function only work for add, sub, mul, div, mod function only\n"
     ]
    },
    {
     "data": {
      "text/plain": [
       "27"
      ]
     },
     "execution_count": 3,
     "metadata": {},
     "output_type": "execute_result"
    }
   ],
   "source": [
    "l = [10,4,2,3,8]\n",
    "myreduce(add,l)"
   ]
  },
  {
   "cell_type": "code",
   "execution_count": 4,
   "metadata": {},
   "outputs": [],
   "source": [
    "def sum1(a,b):\n",
    "    return a + b"
   ]
  },
  {
   "cell_type": "code",
   "execution_count": 5,
   "metadata": {},
   "outputs": [
    {
     "name": "stdout",
     "output_type": "stream",
     "text": [
      "Note: This myreduce function only work for add, sub, mul, div, mod function only\n",
      "Not possible to execute that you're trying to pass your function\n"
     ]
    }
   ],
   "source": [
    "i = [12,6,7]\n",
    "myreduce(sum1,i)"
   ]
  },
  {
   "cell_type": "raw",
   "metadata": {},
   "source": [
    "1.2 Write a Python program to implement your own myfilter() function which works exactly\n",
    "like Python's built-in function filter()"
   ]
  },
  {
   "cell_type": "code",
   "execution_count": 6,
   "metadata": {},
   "outputs": [],
   "source": [
    "def checkeven(n):\n",
    "        if n % 2 == 0:\n",
    "            return True\n",
    "def checkprime(n):\n",
    "    if n == 1:\n",
    "        return False\n",
    "    for i in range(2,n):\n",
    "        if n % i == 0:\n",
    "            return False\n",
    "            break\n",
    "    else:\n",
    "        return True"
   ]
  },
  {
   "cell_type": "code",
   "execution_count": 7,
   "metadata": {},
   "outputs": [],
   "source": [
    "def myfilter(fun,mylist):\n",
    "    print(\"Note: This myfilter function only work for checkeven,checkprime function only\")\n",
    "    x = []\n",
    "    if fun == checkeven:\n",
    "        for i in mylist:\n",
    "            if checkeven(i) == True:\n",
    "                x.append(i)\n",
    "        return x\n",
    "    elif fun == checkprime:\n",
    "        for i in mylist:\n",
    "            if checkprime(i) == True:\n",
    "                x.append(i)\n",
    "        return x\n",
    "    else:\n",
    "        print(\"Not possible to execute that you're trying to pass your function\")"
   ]
  },
  {
   "cell_type": "code",
   "execution_count": 8,
   "metadata": {},
   "outputs": [
    {
     "name": "stdout",
     "output_type": "stream",
     "text": [
      "Note: This myfilter function only work for checkeven,checkprime function only\n"
     ]
    },
    {
     "data": {
      "text/plain": [
       "[4, 4, 2, 56, 32, 46, 34]"
      ]
     },
     "execution_count": 8,
     "metadata": {},
     "output_type": "execute_result"
    }
   ],
   "source": [
    "l = [4,3,5,4,2,35,56,32,423,46,34,3]\n",
    "myfilter(checkeven,l)"
   ]
  },
  {
   "cell_type": "code",
   "execution_count": 9,
   "metadata": {},
   "outputs": [
    {
     "name": "stdout",
     "output_type": "stream",
     "text": [
      "Note: This myfilter function only work for checkeven,checkprime function only\n"
     ]
    },
    {
     "data": {
      "text/plain": [
       "[2, 5, 3, 7, 3, 2, 5]"
      ]
     },
     "execution_count": 9,
     "metadata": {},
     "output_type": "execute_result"
    }
   ],
   "source": [
    "l1 = [2,34,234,4,5,3,7,4,324,45,35,56,3,2,5]\n",
    "myfilter(checkprime,l1)"
   ]
  },
  {
   "cell_type": "raw",
   "metadata": {},
   "source": [
    "2. Implement List comprehensions to produce the following lists.\n",
    "Write List comprehensions to produce the following Lists"
   ]
  },
  {
   "cell_type": "raw",
   "metadata": {},
   "source": [
    "# 2.1 ['x', 'xx', 'xxx', 'xxxx', 'y', 'yy', 'yyy', 'yyyy', 'z', 'zz', 'zzz', 'zzzz']"
   ]
  },
  {
   "cell_type": "code",
   "execution_count": 10,
   "metadata": {},
   "outputs": [
    {
     "data": {
      "text/plain": [
       "['x', 'xx', 'xxx', 'xxxx', 'y', 'yy', 'yyy', 'yyyy', 'z', 'zz', 'zzz', 'zzzz']"
      ]
     },
     "execution_count": 10,
     "metadata": {},
     "output_type": "execute_result"
    }
   ],
   "source": [
    "[i*'x' for i in range(1,5)] + [i*'y' for i in range(1,5)] + [i*'z' for i in range(1,5)]"
   ]
  },
  {
   "cell_type": "raw",
   "metadata": {},
   "source": [
    "2.2 ['x', 'y', 'z', 'xx', 'yy', 'zz', 'xxx', 'yyy', 'zzz', 'xxxx', 'yyyy', 'zzzz']"
   ]
  },
  {
   "cell_type": "code",
   "execution_count": 11,
   "metadata": {},
   "outputs": [
    {
     "name": "stdout",
     "output_type": "stream",
     "text": [
      "['x', 'y', 'z', 'xx', 'yy', 'zz', 'xxx', 'yyy', 'zzz', 'xxxx', 'yyyy', 'zzzz']\n"
     ]
    }
   ],
   "source": [
    "l=[]\n",
    "[[l.append(i*'x'), l.append(i*'y'), l.append(i*'z')] for i in range(1,5)]\n",
    "print(l)"
   ]
  },
  {
   "cell_type": "raw",
   "metadata": {},
   "source": [
    "2.3 [[2], [3], [4], [3], [4], [5], [4], [5], [6]]"
   ]
  },
  {
   "cell_type": "code",
   "execution_count": 12,
   "metadata": {},
   "outputs": [
    {
     "name": "stdout",
     "output_type": "stream",
     "text": [
      "[[2], [3], [4], [3], [4], [5], [4], [5], [6]]\n"
     ]
    },
    {
     "data": {
      "text/plain": [
       "[[2], [3], [4], [3], [4], [5], [4], [5], [6]]"
      ]
     },
     "execution_count": 12,
     "metadata": {},
     "output_type": "execute_result"
    }
   ],
   "source": [
    "# Method I:\n",
    "m = []\n",
    "[m.append([j]) for i in range(2,5) for j in range(i,i+3)]\n",
    "print(m)\n",
    "\n",
    "#method II:\n",
    "[[j] for i in range(2,5) for j in range(i,i+3)]"
   ]
  },
  {
   "cell_type": "raw",
   "metadata": {},
   "source": [
    "2.4 [[2, 3, 4, 5], [3, 4, 5, 6],[4, 5, 6, 7], [5, 6, 7, 8]]"
   ]
  },
  {
   "cell_type": "code",
   "execution_count": 13,
   "metadata": {},
   "outputs": [
    {
     "data": {
      "text/plain": [
       "[[2, 3, 4, 5], [3, 4, 5, 6], [4, 5, 6, 7], [5, 6, 7, 8]]"
      ]
     },
     "execution_count": 13,
     "metadata": {},
     "output_type": "execute_result"
    }
   ],
   "source": [
    "[[j+i for j in range(2,6)] for i in range(4)]"
   ]
  },
  {
   "cell_type": "raw",
   "metadata": {},
   "source": [
    "2.5 [(1, 1), (2, 1), (3, 1), (1, 2), (2, 2), (3, 2), (1, 3), (2, 3), (3, 3)]"
   ]
  },
  {
   "cell_type": "code",
   "execution_count": 14,
   "metadata": {},
   "outputs": [
    {
     "data": {
      "text/plain": [
       "[(1, 1), (2, 1), (3, 1), (1, 2), (2, 2), (3, 2), (1, 3), (2, 3), (3, 3)]"
      ]
     },
     "execution_count": 14,
     "metadata": {},
     "output_type": "execute_result"
    }
   ],
   "source": [
    "[(j,i) for i in range(1,4) for j in range(1,4)]"
   ]
  }
 ],
 "metadata": {
  "kernelspec": {
   "display_name": "Python 3",
   "language": "python",
   "name": "python3"
  },
  "language_info": {
   "codemirror_mode": {
    "name": "ipython",
    "version": 3
   },
   "file_extension": ".py",
   "mimetype": "text/x-python",
   "name": "python",
   "nbconvert_exporter": "python",
   "pygments_lexer": "ipython3",
   "version": "3.8.3"
  }
 },
 "nbformat": 4,
 "nbformat_minor": 4
}
