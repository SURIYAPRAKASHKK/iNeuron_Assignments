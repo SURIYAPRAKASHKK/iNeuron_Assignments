{
 "cells": [
  {
   "cell_type": "raw",
   "metadata": {},
   "source": [
    "1.1 Write a Python Program(with class concepts) to find the area of the triangle using the below\n",
    "formula.\n",
    "area = (s*(s-a)*(s-b)*(s-c)) ** 0.5\n",
    "Function to take the length of the sides of triangle from user should be defined in the parent\n",
    "class and function to calculate the area should be defined in subclass."
   ]
  },
  {
   "cell_type": "code",
   "execution_count": 1,
   "metadata": {},
   "outputs": [],
   "source": [
    "class sides:    \n",
    "    def __init__(point,a,b,c):\n",
    "        point.a = a\n",
    "        point.b = b\n",
    "        point.c = c\n",
    "\n",
    "class cal_tri_area(sides):\n",
    "    def __init__(self,*args):\n",
    "        super(cal_tri_area,self).__init__(*args)\n",
    "        \n",
    "    def area(self):\n",
    "        s = (self.a + self.b + self.c)/2\n",
    "        area = (s*(s - self.a)*(s - self.b)*(s - self.c)) ** 0.5\n",
    "        print(\"Area of triangle is\", area)"
   ]
  },
  {
   "cell_type": "code",
   "execution_count": 2,
   "metadata": {},
   "outputs": [],
   "source": [
    "side1 = cal_tri_area(5,12,13)"
   ]
  },
  {
   "cell_type": "code",
   "execution_count": 3,
   "metadata": {},
   "outputs": [
    {
     "name": "stdout",
     "output_type": "stream",
     "text": [
      "Area of triangle is 30.0\n"
     ]
    }
   ],
   "source": [
    "side1.area()"
   ]
  },
  {
   "cell_type": "code",
   "execution_count": 4,
   "metadata": {},
   "outputs": [
    {
     "name": "stdout",
     "output_type": "stream",
     "text": [
      "Area of triangle is 6.0\n"
     ]
    }
   ],
   "source": [
    "side2 = cal_tri_area(3,4,5)\n",
    "side2.area()"
   ]
  },
  {
   "cell_type": "raw",
   "metadata": {},
   "source": [
    "1.2 Write a function filter_long_words() that takes a list of words and an integer n and returns\n",
    "the list of words that are longer than n."
   ]
  },
  {
   "cell_type": "code",
   "execution_count": 5,
   "metadata": {},
   "outputs": [],
   "source": [
    "# Method I:\n",
    "def filter_long_words():\n",
    "    try:\n",
    "        l = int(input(\"Emter your list member size: \"))\n",
    "        word_list = []\n",
    "        final_list = []\n",
    "        for i in range(l):\n",
    "            i = str(input(\"Enter list member and hit enter: \"))\n",
    "            word_list.append(i)\n",
    "        try:    \n",
    "            n = int(input(\"Enter your limitation number: \"))\n",
    "        except:\n",
    "            return \"only integer value allowed\"\n",
    "        else:\n",
    "            for j in word_list:\n",
    "                if len(j) > n:\n",
    "                    final_list.append(j)\n",
    "\n",
    "            print(\"The final list contain only more than %d letters words\"%(n))\n",
    "            print(final_list)\n",
    "    except:\n",
    "        print(\"You made a mistake somewhere\")"
   ]
  },
  {
   "cell_type": "code",
   "execution_count": 6,
   "metadata": {},
   "outputs": [
    {
     "name": "stdout",
     "output_type": "stream",
     "text": [
      "Emter your list member size: 5\n",
      "Enter list member and hit enter: adfjk\n",
      "Enter list member and hit enter: as\n",
      "Enter list member and hit enter: adk\n",
      "Enter list member and hit enter: j;dsfj\n",
      "Enter list member and hit enter: asdfjl\n",
      "Enter your limitation number: 3\n",
      "The final list contain only more than 3 letters words\n",
      "['adfjk', 'j;dsfj', 'asdfjl']\n"
     ]
    }
   ],
   "source": [
    "filter_long_words()"
   ]
  },
  {
   "cell_type": "code",
   "execution_count": 7,
   "metadata": {},
   "outputs": [],
   "source": [
    "#Method II(Filter function method):\n",
    "def filter_word(word,n):\n",
    "    if len(word) > n:\n",
    "        return True\n",
    "\n",
    "def filter_long_word(fun,list1):\n",
    "    f = []\n",
    "    li = int(input(\"Enter your length of word: \"))\n",
    "    if fun == filter_word:\n",
    "        for i in list1:\n",
    "            if filter_word(i,li) == True:\n",
    "                f.append(i)\n",
    "        print(\"The final list contain only more than %d letter(s) words\"%(li))\n",
    "        return f\n",
    "    else:\n",
    "        print(\"Given function not allowed inside the filter_long_word method\")"
   ]
  },
  {
   "cell_type": "code",
   "execution_count": 8,
   "metadata": {},
   "outputs": [
    {
     "name": "stdout",
     "output_type": "stream",
     "text": [
      "Enter your length of word: 4\n",
      "The final list contain only more than 4 letter(s) words\n"
     ]
    },
    {
     "data": {
      "text/plain": [
       "['adfga', 'adffa', 'kjdshfjkh', 'dfkjh', 'sdfkjhjdsff']"
      ]
     },
     "execution_count": 8,
     "metadata": {},
     "output_type": "execute_result"
    }
   ],
   "source": [
    "l = ['wert','adfga','as','sdf','adffa','kjdshfjkh','dfkjh','sdfkjhjdsff']\n",
    "filter_long_word(filter_word,l)"
   ]
  },
  {
   "cell_type": "raw",
   "metadata": {},
   "source": [
    "2.1 Write a Python program using function concept that maps list of words into a list of integers\n",
    "representing the lengths of the corresponding words.\n",
    "Hint: If a list [ ab,cde,erty] is passed on to the python function output should come as [2,3,4]\n",
    "Here 2,3 and 4 are the lengths of the words in the list."
   ]
  },
  {
   "cell_type": "code",
   "execution_count": 9,
   "metadata": {},
   "outputs": [],
   "source": [
    "def map_length(mylist):\n",
    "    if type(mylist) == list or type(mylist) == tuple or type(mylist) == set:\n",
    "        length = []\n",
    "        for i in mylist:\n",
    "            i = str(i)\n",
    "            length.append(len(i))\n",
    "        print(length)\n",
    "    else:\n",
    "        print(\"you are not entered a iterables as a argument\")"
   ]
  },
  {
   "cell_type": "code",
   "execution_count": 10,
   "metadata": {},
   "outputs": [
    {
     "name": "stdout",
     "output_type": "stream",
     "text": [
      "[5, 4, 6, 4, 6, 10]\n"
     ]
    }
   ],
   "source": [
    "map_length(['dfadf','rice','potato','soup','pickle','groundnuts'])"
   ]
  },
  {
   "cell_type": "code",
   "execution_count": 11,
   "metadata": {},
   "outputs": [
    {
     "name": "stdout",
     "output_type": "stream",
     "text": [
      "[3, 3, 2, 7, 4, 2, 6, 3, 6, 8]\n"
     ]
    }
   ],
   "source": [
    "map_length([123,213,23,4213231,2132,31,313213,123,213321,21323213])"
   ]
  },
  {
   "cell_type": "code",
   "execution_count": 12,
   "metadata": {},
   "outputs": [
    {
     "name": "stdout",
     "output_type": "stream",
     "text": [
      "you are not entered a iterables as a argument\n"
     ]
    }
   ],
   "source": [
    "map_length(34)"
   ]
  },
  {
   "cell_type": "raw",
   "metadata": {},
   "source": [
    "2.2 Write a Python function which takes a character (i.e. a string of length 1) and returns True if\n",
    "it is a vowel, False otherwise."
   ]
  },
  {
   "cell_type": "code",
   "execution_count": 13,
   "metadata": {},
   "outputs": [],
   "source": [
    "#Method I:\n",
    "def check_vowel(x):\n",
    "    if (type(x) == str) & (len(x) == 1):\n",
    "        if x == 'a' or x == 'e' or x == 'i' or x == 'o' or x == 'u' or x == 'A' or x =='E' or x == 'I' or x == 'O' or x == 'U':\n",
    "            return True\n",
    "        else:\n",
    "            return False\n",
    "    else:\n",
    "        print(\"Please enter one character string\")"
   ]
  },
  {
   "cell_type": "code",
   "execution_count": 14,
   "metadata": {},
   "outputs": [
    {
     "data": {
      "text/plain": [
       "True"
      ]
     },
     "execution_count": 14,
     "metadata": {},
     "output_type": "execute_result"
    }
   ],
   "source": [
    "check_vowel('e')"
   ]
  },
  {
   "cell_type": "code",
   "execution_count": 15,
   "metadata": {},
   "outputs": [],
   "source": [
    "#Method II:\n",
    "def check_vowel(x):\n",
    "    l = ['a','e','i','o','u','A','E','I','O','U']\n",
    "    if (type(x) == str) & (len(x) == 1):\n",
    "        if x in l:\n",
    "            return True\n",
    "        else:\n",
    "            return False\n",
    "    else:\n",
    "        print(\"Please enter one character string\")"
   ]
  },
  {
   "cell_type": "code",
   "execution_count": 16,
   "metadata": {},
   "outputs": [
    {
     "data": {
      "text/plain": [
       "False"
      ]
     },
     "execution_count": 16,
     "metadata": {},
     "output_type": "execute_result"
    }
   ],
   "source": [
    "check_vowel('R')"
   ]
  }
 ],
 "metadata": {
  "kernelspec": {
   "display_name": "Python 3",
   "language": "python",
   "name": "python3"
  },
  "language_info": {
   "codemirror_mode": {
    "name": "ipython",
    "version": 3
   },
   "file_extension": ".py",
   "mimetype": "text/x-python",
   "name": "python",
   "nbconvert_exporter": "python",
   "pygments_lexer": "ipython3",
   "version": "3.8.3"
  }
 },
 "nbformat": 4,
 "nbformat_minor": 4
}
